{
 "cells": [
  {
   "cell_type": "markdown",
   "metadata": {},
   "source": [
    "# Makemore: part 3"
   ]
  },
  {
   "cell_type": "code",
   "execution_count": 1,
   "metadata": {},
   "outputs": [],
   "source": [
    "import torch\n",
    "import torch.nn.functional as F\n",
    "import matplotlib.pyplot as plt\n",
    "%matplotlib inline"
   ]
  },
  {
   "cell_type": "code",
   "execution_count": 2,
   "metadata": {},
   "outputs": [
    {
     "data": {
      "text/plain": [
       "['emma', 'olivia', 'ava', 'isabella', 'sophia', 'charlotte', 'mia', 'amelia']"
      ]
     },
     "execution_count": 2,
     "metadata": {},
     "output_type": "execute_result"
    }
   ],
   "source": [
    "# Read in all words\n",
    "words = open('names.txt', 'r').read().splitlines()\n",
    "words[:8]"
   ]
  },
  {
   "cell_type": "code",
   "execution_count": 3,
   "metadata": {},
   "outputs": [
    {
     "name": "stdout",
     "output_type": "stream",
     "text": [
      "{1: 'a', 2: 'b', 3: 'c', 4: 'd', 5: 'e', 6: 'f', 7: 'g', 8: 'h', 9: 'i', 10: 'j', 11: 'k', 12: 'l', 13: 'm', 14: 'n', 15: 'o', 16: 'p', 17: 'q', 18: 'r', 19: 's', 20: 't', 21: 'u', 22: 'v', 23: 'w', 24: 'x', 25: 'y', 26: 'z', 0: '.'}\n"
     ]
    }
   ],
   "source": [
    "chars = sorted(list(set(''.join(words))))\n",
    "stoi = {s:i+1 for i, s in enumerate(chars)}\n",
    "stoi['.'] = 0\n",
    "itos = {i:s for s,i in stoi.items()}\n",
    "print(itos)"
   ]
  },
  {
   "cell_type": "code",
   "execution_count": 5,
   "metadata": {},
   "outputs": [
    {
     "data": {
      "text/plain": [
       "27"
      ]
     },
     "execution_count": 5,
     "metadata": {},
     "output_type": "execute_result"
    }
   ],
   "source": [
    "vocab_size = len(stoi)\n",
    "vocab_size"
   ]
  },
  {
   "cell_type": "code",
   "execution_count": 56,
   "metadata": {},
   "outputs": [
    {
     "name": "stdout",
     "output_type": "stream",
     "text": [
      "torch.Size([182580, 3]) torch.Size([182580])\n",
      "torch.Size([22767, 3]) torch.Size([22767])\n",
      "torch.Size([22799, 3]) torch.Size([22799])\n"
     ]
    }
   ],
   "source": [
    "block_size = 3 # Context length\n",
    "\n",
    "# Build the dataset\n",
    "def build_dataset(words):\n",
    "    X, Y = [], []\n",
    "\n",
    "    for w in words:\n",
    "        # print(w)\n",
    "        context = [0] * block_size\n",
    "\n",
    "        for ch in w + '.':\n",
    "            ix = stoi[ch]\n",
    "            X.append(context)\n",
    "            Y.append(ix)\n",
    "            # print(\"[\",''.join(itos[i] for i in context),']', '--->', itos[ix])\n",
    "            # print(','.join(str(i) for i in context))\n",
    "            context = context[1:] + [ix] # Crop and append\n",
    "\n",
    "    X = torch.tensor(X)\n",
    "    Y = torch.tensor(Y)\n",
    "    print(X.shape, Y.shape)\n",
    "    return X, Y\n",
    "\n",
    "import random\n",
    "random.seed(42)\n",
    "random.shuffle(words)\n",
    "n1 = int(0.8*len(words))\n",
    "n2 = int(0.9*len(words))\n",
    "\n",
    "Xtr, Ytr = build_dataset(words[:n1])\n",
    "Xdev, Ydev = build_dataset(words[n1:n2])\n",
    "Xte, Yte = build_dataset(words[n2:])"
   ]
  },
  {
   "cell_type": "code",
   "execution_count": 91,
   "metadata": {},
   "outputs": [],
   "source": [
    "# Dimensionality of the character embedding vectors\n",
    "n_embd = 10 \n",
    "# Number of neurons in the hidden layer of the MLP\n",
    "n_hidden = 200\n",
    "\n",
    "g = torch.Generator().manual_seed(2147483647)\n",
    "\n",
    "C = torch.randn((vocab_size, n_embd),                       generator=g)\n",
    "W1 = torch.randn((n_embd * block_size, n_hidden),           generator=g) * (5/3) / ((n_embd * block_size)**0.5)\n",
    "# b1 = torch.randn(n_hidden,                                  generator=g) * 0.01\n",
    "W2 = torch.randn((n_hidden, vocab_size),                    generator=g) * 0.01\n",
    "b2 = torch.randn(vocab_size,                                generator=g) * 0\n",
    "\n",
    "bngain = torch.ones((1, n_hidden))\n",
    "bnbias = torch.zeros((1, n_hidden))\n",
    "bnmean_running = torch.zeros((1, n_hidden))\n",
    "bnstd_running = torch.ones((1, n_hidden))\n",
    "\n",
    "parameters = [C, W1, b1, W2, b2, bnbias, bngain]\n",
    "for p in parameters:\n",
    "    p.requires_grad = True\n"
   ]
  },
  {
   "cell_type": "code",
   "execution_count": 81,
   "metadata": {},
   "outputs": [
    {
     "data": {
      "text/plain": [
       "0.3042903097250923"
      ]
     },
     "execution_count": 81,
     "metadata": {},
     "output_type": "execute_result"
    }
   ],
   "source": [
    "# Set the s.d of our weights\n",
    "(5/3) / (30**0.5)"
   ]
  },
  {
   "cell_type": "code",
   "execution_count": 92,
   "metadata": {},
   "outputs": [
    {
     "name": "stdout",
     "output_type": "stream",
     "text": [
      "      0/ 200000: 3.3181\n",
      "   1000/ 200000: 2.8309\n",
      "   2000/ 200000: 2.6993\n",
      "   3000/ 200000: 2.6744\n",
      "   4000/ 200000: 2.4851\n",
      "   5000/ 200000: 2.1728\n",
      "   6000/ 200000: 2.3241\n",
      "   7000/ 200000: 2.3148\n",
      "   8000/ 200000: 2.5147\n",
      "   9000/ 200000: 2.7301\n",
      "  10000/ 200000: 2.6731\n",
      "  11000/ 200000: 2.4192\n",
      "  12000/ 200000: 2.3106\n",
      "  13000/ 200000: 2.2203\n",
      "  14000/ 200000: 2.4355\n",
      "  15000/ 200000: 2.3538\n",
      "  16000/ 200000: 2.1083\n",
      "  17000/ 200000: 1.9603\n",
      "  18000/ 200000: 2.2371\n",
      "  19000/ 200000: 2.0241\n",
      "  20000/ 200000: 2.8238\n",
      "  21000/ 200000: 2.8684\n",
      "  22000/ 200000: 2.5229\n",
      "  23000/ 200000: 2.4656\n",
      "  24000/ 200000: 2.1004\n",
      "  25000/ 200000: 2.6186\n",
      "  26000/ 200000: 2.0392\n",
      "  27000/ 200000: 2.0773\n",
      "  28000/ 200000: 2.2658\n",
      "  29000/ 200000: 2.4588\n",
      "  30000/ 200000: 2.2332\n",
      "  31000/ 200000: 2.1156\n",
      "  32000/ 200000: 2.4917\n",
      "  33000/ 200000: 2.5900\n",
      "  34000/ 200000: 2.2887\n",
      "  35000/ 200000: 2.1232\n",
      "  36000/ 200000: 2.5812\n",
      "  37000/ 200000: 2.2342\n",
      "  38000/ 200000: 1.9888\n",
      "  39000/ 200000: 2.0654\n",
      "  40000/ 200000: 2.1538\n",
      "  41000/ 200000: 2.5813\n",
      "  42000/ 200000: 2.2970\n",
      "  43000/ 200000: 2.4658\n",
      "  44000/ 200000: 2.3065\n",
      "  45000/ 200000: 2.2917\n",
      "  46000/ 200000: 2.1126\n",
      "  47000/ 200000: 2.1590\n",
      "  48000/ 200000: 2.2379\n",
      "  49000/ 200000: 2.2982\n",
      "  50000/ 200000: 2.1366\n",
      "  51000/ 200000: 2.3806\n",
      "  52000/ 200000: 2.1891\n",
      "  53000/ 200000: 2.4503\n",
      "  54000/ 200000: 2.1373\n",
      "  55000/ 200000: 2.2995\n",
      "  56000/ 200000: 1.8428\n",
      "  57000/ 200000: 1.9842\n",
      "  58000/ 200000: 2.4758\n",
      "  59000/ 200000: 2.1544\n",
      "  60000/ 200000: 2.6658\n",
      "  61000/ 200000: 2.3503\n",
      "  62000/ 200000: 2.6928\n",
      "  63000/ 200000: 2.1815\n",
      "  64000/ 200000: 2.1288\n",
      "  65000/ 200000: 2.1445\n",
      "  66000/ 200000: 2.3270\n",
      "  67000/ 200000: 2.4451\n",
      "  68000/ 200000: 2.2240\n",
      "  69000/ 200000: 1.9412\n",
      "  70000/ 200000: 2.1671\n",
      "  71000/ 200000: 2.2812\n",
      "  72000/ 200000: 2.1124\n",
      "  73000/ 200000: 2.6315\n",
      "  74000/ 200000: 2.4415\n",
      "  75000/ 200000: 2.0769\n",
      "  76000/ 200000: 2.1432\n",
      "  77000/ 200000: 2.4915\n",
      "  78000/ 200000: 2.2864\n",
      "  79000/ 200000: 2.3349\n",
      "  80000/ 200000: 2.1613\n",
      "  81000/ 200000: 2.3145\n",
      "  82000/ 200000: 2.2298\n",
      "  83000/ 200000: 2.0698\n",
      "  84000/ 200000: 2.0312\n",
      "  85000/ 200000: 2.3000\n",
      "  86000/ 200000: 2.3652\n",
      "  87000/ 200000: 2.1970\n",
      "  88000/ 200000: 2.6321\n",
      "  89000/ 200000: 2.1918\n",
      "  90000/ 200000: 2.1691\n",
      "  91000/ 200000: 2.0784\n",
      "  92000/ 200000: 1.9441\n",
      "  93000/ 200000: 1.7852\n",
      "  94000/ 200000: 2.4456\n",
      "  95000/ 200000: 1.9893\n",
      "  96000/ 200000: 2.3294\n",
      "  97000/ 200000: 2.1112\n",
      "  98000/ 200000: 2.4302\n",
      "  99000/ 200000: 2.2254\n",
      " 100000/ 200000: 2.1619\n",
      " 101000/ 200000: 2.2401\n",
      " 102000/ 200000: 1.8388\n",
      " 103000/ 200000: 2.4677\n",
      " 104000/ 200000: 2.0457\n",
      " 105000/ 200000: 2.2326\n",
      " 106000/ 200000: 2.0213\n",
      " 107000/ 200000: 2.4220\n",
      " 108000/ 200000: 2.0885\n",
      " 109000/ 200000: 2.0837\n",
      " 110000/ 200000: 2.0715\n",
      " 111000/ 200000: 2.4529\n",
      " 112000/ 200000: 2.2397\n",
      " 113000/ 200000: 1.9206\n",
      " 114000/ 200000: 2.5950\n",
      " 115000/ 200000: 2.2360\n",
      " 116000/ 200000: 2.3254\n",
      " 117000/ 200000: 1.9863\n",
      " 118000/ 200000: 1.9938\n",
      " 119000/ 200000: 2.2838\n",
      " 120000/ 200000: 2.2871\n",
      " 121000/ 200000: 2.0480\n",
      " 122000/ 200000: 2.0843\n",
      " 123000/ 200000: 1.9870\n",
      " 124000/ 200000: 2.1291\n",
      " 125000/ 200000: 2.4193\n",
      " 126000/ 200000: 2.1550\n",
      " 127000/ 200000: 2.1387\n",
      " 128000/ 200000: 2.4370\n",
      " 129000/ 200000: 2.3036\n",
      " 130000/ 200000: 2.1380\n",
      " 131000/ 200000: 2.5524\n",
      " 132000/ 200000: 1.9124\n",
      " 133000/ 200000: 2.0254\n",
      " 134000/ 200000: 2.1226\n",
      " 135000/ 200000: 2.2610\n",
      " 136000/ 200000: 2.1474\n",
      " 137000/ 200000: 2.6760\n",
      " 138000/ 200000: 2.3011\n",
      " 139000/ 200000: 1.8810\n",
      " 140000/ 200000: 1.9945\n",
      " 141000/ 200000: 2.1917\n",
      " 142000/ 200000: 2.3087\n",
      " 143000/ 200000: 2.5183\n",
      " 144000/ 200000: 2.3364\n",
      " 145000/ 200000: 2.1013\n",
      " 146000/ 200000: 1.9431\n",
      " 147000/ 200000: 2.2312\n",
      " 148000/ 200000: 2.0180\n",
      " 149000/ 200000: 2.2819\n",
      " 150000/ 200000: 2.0827\n",
      " 151000/ 200000: 2.0458\n",
      " 152000/ 200000: 2.0886\n",
      " 153000/ 200000: 2.5113\n",
      " 154000/ 200000: 1.8916\n",
      " 155000/ 200000: 1.6826\n",
      " 156000/ 200000: 2.2976\n",
      " 157000/ 200000: 2.2064\n",
      " 158000/ 200000: 2.3779\n",
      " 159000/ 200000: 1.9857\n",
      " 160000/ 200000: 2.2965\n",
      " 161000/ 200000: 2.6485\n",
      " 162000/ 200000: 1.9967\n",
      " 163000/ 200000: 2.1903\n",
      " 164000/ 200000: 1.9865\n",
      " 165000/ 200000: 2.2454\n",
      " 166000/ 200000: 1.7932\n",
      " 167000/ 200000: 2.0327\n",
      " 168000/ 200000: 2.2590\n",
      " 169000/ 200000: 1.9884\n",
      " 170000/ 200000: 2.3376\n",
      " 171000/ 200000: 2.3480\n",
      " 172000/ 200000: 2.1940\n",
      " 173000/ 200000: 2.2513\n",
      " 174000/ 200000: 2.4118\n",
      " 175000/ 200000: 2.1078\n",
      " 176000/ 200000: 2.0287\n",
      " 177000/ 200000: 2.4736\n",
      " 178000/ 200000: 2.0356\n",
      " 179000/ 200000: 2.2033\n",
      " 180000/ 200000: 2.0574\n",
      " 181000/ 200000: 1.9665\n",
      " 182000/ 200000: 2.2523\n",
      " 183000/ 200000: 1.8345\n",
      " 184000/ 200000: 2.3128\n",
      " 185000/ 200000: 2.3820\n",
      " 186000/ 200000: 2.0619\n",
      " 187000/ 200000: 1.9721\n",
      " 188000/ 200000: 2.4688\n",
      " 189000/ 200000: 2.3029\n",
      " 190000/ 200000: 2.1156\n",
      " 191000/ 200000: 2.1541\n",
      " 192000/ 200000: 1.9423\n",
      " 193000/ 200000: 2.3262\n",
      " 194000/ 200000: 1.9222\n",
      " 195000/ 200000: 2.1231\n",
      " 196000/ 200000: 2.1277\n",
      " 197000/ 200000: 1.7659\n",
      " 198000/ 200000: 1.8611\n",
      " 199000/ 200000: 2.2151\n"
     ]
    }
   ],
   "source": [
    "max_steps = 200000\n",
    "batch_size = 32\n",
    "lossi = []\n",
    "\n",
    "for i in range(max_steps):\n",
    "    # minibatch construct\n",
    "    ix = torch.randint(0,Xtr.shape[0],(batch_size,))\n",
    "    Xb, Yb = Xtr[ix], Ytr[ix]\n",
    "\n",
    "    # Forward pass\n",
    "    emb = C[Xb] # Embed the chars into vectors\n",
    "    embcat = emb.view(emb.shape[0], -1) # Concatenate the vectors\n",
    "    # Linear layer\n",
    "    hpreact = embcat @ W1 + # b1 Hidden layer pre-activation...#\n",
    "\n",
    "    # WITH BATCHNORM YOU DON'T NEED A BIAS!!!\n",
    "\n",
    "\n",
    "    # BatchNorm layer!\n",
    "    bnmeani = hpreact.mean(0, keepdim=True)\n",
    "    bnstdi = hpreact.std(0, keepdim=True)\n",
    "    hpreact = bngain * (hpreact - bnmeani) / bnstdi  + bnbias\n",
    "    with torch.no_grad():\n",
    "        bnmean_running = 0.999 * bnmean_running + 0.001 * bnmeani\n",
    "        bnstd_running = 0.999 * bnmean_running + 0.001 * bnstdi\n",
    "\n",
    "    # Non-linearity\n",
    "        # Update mean & std\n",
    "    h = torch.tanh(hpreact) # Hidden layer\n",
    "    logits = h @ W2 + b2 # Output layer\n",
    "    loss = F.cross_entropy(logits, Yb) # Loss function\n",
    "\n",
    "    # Backward pass\n",
    "    for p in parameters:\n",
    "        p.grad = None\n",
    "    loss.backward()\n",
    "    \n",
    "    # Update\n",
    "    lr = 0.01 if i < 100000 / 2 else 0.01\n",
    "    for p in parameters:\n",
    "        p.data += -lr * p.grad\n",
    "    \n",
    "    if i % 1000 == 0:\n",
    "        print(f'{i:7d}/{max_steps:7d}: {loss.item():.4f}')\n",
    "    lossi.append(loss.log10().item())\n",
    "\n",
    "    \n",
    "    \n"
   ]
  },
  {
   "cell_type": "code",
   "execution_count": 84,
   "metadata": {},
   "outputs": [
    {
     "data": {
      "image/png": "[encoded data removed]",
      "text/plain": [
       "<Figure size 640x480 with 1 Axes>"
      ]
     },
     "metadata": {},
     "output_type": "display_data"
    }
   ],
   "source": [
    "# Let's look closer at h... what happens after tanh?\n",
    "# print(h.shape)\n",
    "# print(h.view(-1).shape)\n",
    "plt.hist(h.view(-1).tolist(), 50);\n",
    "\n",
    "# Very active function..."
   ]
  },
  {
   "cell_type": "code",
   "execution_count": 85,
   "metadata": {},
   "outputs": [
    {
     "data": {
      "image/png": "[encoded data removed]",
      "text/plain": [
       "<Figure size 640x480 with 1 Axes>"
      ]
     },
     "metadata": {},
     "output_type": "display_data"
    }
   ],
   "source": [
    "# Let's look closer at the pre-activations into the tanh\n",
    "\n",
    "plt.hist(hpreact.view(-1).tolist(), 50);\n",
    "\n",
    "# Very broad... Normal dist."
   ]
  },
  {
   "cell_type": "markdown",
   "metadata": {},
   "source": [
    "### Important: when tanh is 1 or -1, we are effectively KILLING the gradient: bad.\n",
    "\n",
    "We are in the tail of the tanh. Changing the input won't change the output of the tanh too much, and there is not much impact on the loss......\n",
    "The W and b don't really impact this unit."
   ]
  },
  {
   "cell_type": "code",
   "execution_count": 90,
   "metadata": {},
   "outputs": [
    {
     "data": {
      "image/png": "[encoded data removed]",
      "text/plain": [
       "<Figure size 640x480 with 1 Axes>"
      ]
     },
     "metadata": {},
     "output_type": "display_data"
    }
   ],
   "source": [
    "x = torch.arange(-10, 10, 0.1)\n",
    "y = torch.tanh(x)\n",
    "\n",
    "plt.plot(x, y)\n",
    "plt.show()"
   ]
  },
  {
   "cell_type": "code",
   "execution_count": 86,
   "metadata": {},
   "outputs": [
    {
     "data": {
      "text/plain": [
       "<matplotlib.image.AxesImage at 0x31d4225a0>"
      ]
     },
     "execution_count": 86,
     "metadata": {},
     "output_type": "execute_result"
    },
    {
     "data": {
      "image/png": "[encoded data removed]",
      "text/plain": [
       "<Figure size 2000x1000 with 1 Axes>"
      ]
     },
     "metadata": {},
     "output_type": "display_data"
    }
   ],
   "source": [
    "plt.figure(figsize=(20,10))\n",
    "plt.imshow(h.abs() > 0.99, cmap='gray',interpolation='nearest')"
   ]
  },
  {
   "cell_type": "markdown",
   "metadata": {},
   "source": []
  },
  {
   "cell_type": "code",
   "execution_count": 87,
   "metadata": {},
   "outputs": [
    {
     "data": {
      "text/plain": [
       "[<matplotlib.lines.Line2D at 0x317551850>]"
      ]
     },
     "execution_count": 87,
     "metadata": {},
     "output_type": "execute_result"
    },
    {
     "data": {
      "image/png": "[encoded data removed]",
      "text/plain": [
       "<Figure size 640x480 with 1 Axes>"
      ]
     },
     "metadata": {},
     "output_type": "display_data"
    }
   ],
   "source": [
    "plt.plot(lossi)"
   ]
  },
  {
   "cell_type": "code",
   "execution_count": null,
   "metadata": {},
   "outputs": [],
   "source": [
    "#  Calibrate the batch norm at the end of training\n",
    "\n",
    "# DONE VIA RUNNING MEAN AND \n",
    "\n",
    "# with torch.no_grad():\n",
    "#     # Pass the training set through\n",
    "#     emb = C[Xtr]\n",
    "#     embcat = emb.view(emb.shape[0], -1)\n",
    "#     hpreact = embcat @ W1 + b1\n",
    "#     #  Measure the mean / std over the entire training set\n",
    "#     bnmean = hpreact.mean(0, keepdim=True)\n",
    "#     bnstd = hpreact.std(0, keepdim=True)"
   ]
  },
  {
   "cell_type": "code",
   "execution_count": 93,
   "metadata": {},
   "outputs": [
    {
     "name": "stdout",
     "output_type": "stream",
     "text": [
      "train 2.128758668899536\n",
      "val 2.1530630588531494\n"
     ]
    }
   ],
   "source": [
    "@torch.no_grad() # This decorator disables gradient tracking, because we aren't going to do a backward pass\n",
    "def split_loss(split):\n",
    "    x, y = {\n",
    "        'train': (Xtr, Ytr),\n",
    "        'val': (Xdev, Ydev),\n",
    "        'test': (Xte, Yte),\n",
    "    }[split]\n",
    "    emb = C[x] # (N, block_size, n_embd)\n",
    "    embcat = emb.view(emb.shape[0], -1) # concat into (N, block_size * n_embd)\n",
    "\n",
    "    hpreact = embcat @ W1 + b1\n",
    "    # Batch normalisation!\n",
    "    hpreact = bngain * (hpreact - bnmean_running) / bnstd_running + bnbias\n",
    "\n",
    "    h = torch.tanh(hpreact) # (N, n_hidden)\n",
    "    logits = h @ W2 + b2 # (N, vocab_size)\n",
    "    loss = F.cross_entropy(logits, y) # Loss function\n",
    "    print(split, loss.item())\n",
    "\n",
    "split_loss('train')\n",
    "split_loss('val')"
   ]
  },
  {
   "cell_type": "code",
   "execution_count": 18,
   "metadata": {},
   "outputs": [
    {
     "name": "stdout",
     "output_type": "stream",
     "text": [
      "sai.\n",
      "kiame.\n",
      "kyara.\n",
      "pasdahaira.\n",
      "kaylen.\n",
      "khen.\n",
      "bry.\n",
      "abruan.\n",
      "anqkee.\n",
      "katlon.\n",
      "zivie.\n",
      "dymorio.\n",
      "nliny.\n",
      "davir.\n",
      ".\n",
      "madyr.\n",
      "raz.\n",
      "aeri.\n",
      "semoryan.\n",
      "koisa.\n",
      "kanteleer.\n",
      "eirlie.\n",
      "sresttfartanannyy.\n",
      "sori.\n",
      "mon.\n",
      "calyi.\n",
      "koinor.\n",
      "thyannah.\n",
      "raijayella.\n",
      "eashynh.\n"
     ]
    }
   ],
   "source": [
    "g = torch.Generator().manual_seed(2147483647 + 10)\n",
    "\n",
    "for _ in range(30):\n",
    "\n",
    "    out = []\n",
    "    context = [0] * block_size\n",
    "    while True:\n",
    "        # Forward pass the neural net\n",
    "        emb = C[torch.tensor([context])] #(1, block_size, n_embd)\n",
    "        h = torch.tanh(emb.view(1, -1) @ W1 + b1)\n",
    "        logits = h @ W2 + b2\n",
    "        probs = F.softmax(logits, dim=1)\n",
    "        # Sample from distribution\n",
    "        ix = torch.multinomial(probs, num_samples=1).item()\n",
    "        # Shift the context window and track the samples\n",
    "        context = context[1:] + [ix]\n",
    "        out.append(ix)\n",
    "        # If we sample special '.' token, break\n",
    "        if ix == 0:\n",
    "            break\n",
    "\n",
    "    print(''.join(itos[i] for i in out))\n"
   ]
  },
  {
   "cell_type": "code",
   "execution_count": 19,
   "metadata": {},
   "outputs": [
    {
     "data": {
      "text/plain": [
       "tensor(3.2958)"
      ]
     },
     "execution_count": 19,
     "metadata": {},
     "output_type": "execute_result"
    }
   ],
   "source": [
    "# So far, so good, only that at initialisation, we record a SUPER high loss, one that is abnormally high.\n",
    "# Given only 27 chars, we'd expect a uniformly random distribution to get a loss of:\n",
    "- torch.tensor(1/27.0).log()"
   ]
  },
  {
   "cell_type": "code",
   "execution_count": 28,
   "metadata": {},
   "outputs": [
    {
     "data": {
      "text/plain": [
       "(tensor([0., 0., 0., 0.]),\n",
       " tensor([0.2500, 0.2500, 0.2500, 0.2500]),\n",
       " tensor(1.3863))"
      ]
     },
     "execution_count": 28,
     "metadata": {},
     "output_type": "execute_result"
    }
   ],
   "source": [
    "# logits = torch.tensor([-3.0, 5.0, 0.0, 2.0])\n",
    "logits = torch.zeros(4)\n",
    "probs = torch.softmax(logits, dim=0)\n",
    "loss = -probs[2].log()\n",
    "logits, probs, loss"
   ]
  },
  {
   "cell_type": "code",
   "execution_count": null,
   "metadata": {},
   "outputs": [],
   "source": []
  }
 ],
 "metadata": {
  "kernelspec": {
   "display_name": "Python 3",
   "language": "python",
   "name": "python3"
  },
  "language_info": {
   "codemirror_mode": {
    "name": "ipython",
    "version": 3
   },
   "file_extension": ".py",
   "mimetype": "text/x-python",
   "name": "python",
   "nbconvert_exporter": "python",
   "pygments_lexer": "ipython3",
   "version": "3.12.0"
  }
 },
 "nbformat": 4,
 "nbformat_minor": 2
}
