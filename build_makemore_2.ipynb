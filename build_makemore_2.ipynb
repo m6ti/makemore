{
 "cells": [
  {
   "cell_type": "code",
   "execution_count": 1,
   "metadata": {},
   "outputs": [],
   "source": [
    "import torch\n",
    "import torch.nn.functional as F\n",
    "import matplotlib.pyplot as plt\n",
    "%matplotlib inline"
   ]
  },
  {
   "cell_type": "code",
   "execution_count": 2,
   "metadata": {},
   "outputs": [
    {
     "data": {
      "text/plain": [
       "['emma', 'olivia', 'ava', 'isabella', 'sophia', 'charlotte', 'mia', 'amelia']"
      ]
     },
     "execution_count": 2,
     "metadata": {},
     "output_type": "execute_result"
    }
   ],
   "source": [
    "# Read in all words\n",
    "words = open('names.txt', 'r').read().splitlines()\n",
    "words[:8]"
   ]
  },
  {
   "cell_type": "code",
   "execution_count": 3,
   "metadata": {},
   "outputs": [
    {
     "data": {
      "text/plain": [
       "32033"
      ]
     },
     "execution_count": 3,
     "metadata": {},
     "output_type": "execute_result"
    }
   ],
   "source": [
    "len(words)"
   ]
  },
  {
   "cell_type": "code",
   "execution_count": 4,
   "metadata": {},
   "outputs": [
    {
     "name": "stdout",
     "output_type": "stream",
     "text": [
      "{1: 'a', 2: 'b', 3: 'c', 4: 'd', 5: 'e', 6: 'f', 7: 'g', 8: 'h', 9: 'i', 10: 'j', 11: 'k', 12: 'l', 13: 'm', 14: 'n', 15: 'o', 16: 'p', 17: 'q', 18: 'r', 19: 's', 20: 't', 21: 'u', 22: 'v', 23: 'w', 24: 'x', 25: 'y', 26: 'z', 0: '.'}\n"
     ]
    }
   ],
   "source": [
    "chars = sorted(list(set(''.join(words))))\n",
    "stoi = {s:i+1 for i, s in enumerate(chars)}\n",
    "stoi['.'] = 0\n",
    "itos = {i:s for s,i in stoi.items()}\n",
    "print(itos)"
   ]
  },
  {
   "cell_type": "code",
   "execution_count": 23,
   "metadata": {},
   "outputs": [
    {
     "name": "stdout",
     "output_type": "stream",
     "text": [
      "228146\n",
      "228146\n"
     ]
    }
   ],
   "source": [
    "# Build the dataset\n",
    "block_size = 3 # Context length\n",
    "\n",
    "X, Y = [], []\n",
    "for w in words:\n",
    "    # print(w)\n",
    "    context = [0] * block_size\n",
    "    for ch in w + '.':\n",
    "        ix = stoi[ch]\n",
    "        X.append(context)\n",
    "        Y.append(ix)\n",
    "        # print(\"[\",''.join(itos[i] for i in context),']', '--->', itos[ix])\n",
    "        # print(','.join(str(i) for i in context))\n",
    "        context = context[1:] + [ix] # Crop and append\n",
    "\n",
    "print(len(X))\n",
    "print(len(Y))\n",
    "\n",
    "X = torch.tensor(X)\n",
    "Y = torch.tensor(Y)"
   ]
  },
  {
   "cell_type": "code",
   "execution_count": 6,
   "metadata": {},
   "outputs": [
    {
     "data": {
      "text/plain": [
       "(torch.Size([228146, 3]), torch.int64, torch.Size([228146]), torch.int64)"
      ]
     },
     "execution_count": 6,
     "metadata": {},
     "output_type": "execute_result"
    }
   ],
   "source": [
    "X.shape, X.dtype, Y.shape, Y.dtype"
   ]
  },
  {
   "cell_type": "code",
   "execution_count": 24,
   "metadata": {},
   "outputs": [
    {
     "data": {
      "text/plain": [
       "tensor([[ 0.2846, -1.9358],\n",
       "        [ 0.3145, -1.5472],\n",
       "        [-1.0283,  0.6474],\n",
       "        [ 0.9221, -1.8654],\n",
       "        [ 0.2284, -0.8503],\n",
       "        [ 0.4032,  1.5376],\n",
       "        [ 0.3729, -1.4852],\n",
       "        [ 1.9793, -1.0287],\n",
       "        [-0.4473, -1.1582],\n",
       "        [-0.3049,  1.9802],\n",
       "        [ 0.0379, -0.1158],\n",
       "        [-1.0136, -0.3992],\n",
       "        [ 1.0554, -0.6787],\n",
       "        [ 1.5900,  0.2726],\n",
       "        [-1.2778,  0.5813],\n",
       "        [ 0.2154, -0.2763],\n",
       "        [ 1.4194,  0.2854],\n",
       "        [-0.7366, -0.4349],\n",
       "        [ 0.5453, -0.7564],\n",
       "        [ 0.2153,  0.5025],\n",
       "        [-0.3275,  0.7731],\n",
       "        [ 0.3683, -0.1074],\n",
       "        [ 0.2447, -1.9193],\n",
       "        [ 0.4503,  0.0208],\n",
       "        [ 1.0340,  0.5632],\n",
       "        [-1.5000, -0.0830],\n",
       "        [-0.9164, -0.8660]])"
      ]
     },
     "execution_count": 24,
     "metadata": {},
     "output_type": "execute_result"
    }
   ],
   "source": [
    "# Say a 2 dim embedding\n",
    "C = torch.randn((27, 2))\n",
    "C"
   ]
  },
  {
   "cell_type": "code",
   "execution_count": 45,
   "metadata": {},
   "outputs": [
    {
     "data": {
      "text/plain": [
       "tensor([-1.3742, -0.0870])"
      ]
     },
     "execution_count": 45,
     "metadata": {},
     "output_type": "execute_result"
    }
   ],
   "source": [
    "# Say we want to embed a single integer, like 5\n",
    "C[5]"
   ]
  },
  {
   "cell_type": "code",
   "execution_count": 8,
   "metadata": {},
   "outputs": [
    {
     "data": {
      "text/plain": [
       "tensor([0, 0, 0, 0, 0, 1, 0, 0, 0, 0, 0, 0, 0, 0, 0, 0, 0, 0, 0, 0, 0, 0, 0, 0,\n",
       "        0, 0, 0])"
      ]
     },
     "execution_count": 8,
     "metadata": {},
     "output_type": "execute_result"
    }
   ],
   "source": [
    "# One hot encoding... [0,0,0,0,1,0,0,0,...,0]\n",
    "g = F.one_hot(torch.tensor(5), num_classes=27)\n",
    "g"
   ]
  },
  {
   "cell_type": "code",
   "execution_count": 16,
   "metadata": {},
   "outputs": [
    {
     "data": {
      "text/plain": [
       "torch.Size([27])"
      ]
     },
     "execution_count": 16,
     "metadata": {},
     "output_type": "execute_result"
    }
   ],
   "source": [
    "g.shape"
   ]
  },
  {
   "cell_type": "code",
   "execution_count": 19,
   "metadata": {},
   "outputs": [
    {
     "data": {
      "text/plain": [
       "torch.int64"
      ]
     },
     "execution_count": 19,
     "metadata": {},
     "output_type": "execute_result"
    }
   ],
   "source": [
    "g.dtype\n",
    "# 64 bit int\n",
    "# But C is a float tensor!!"
   ]
  },
  {
   "cell_type": "code",
   "execution_count": 47,
   "metadata": {},
   "outputs": [
    {
     "data": {
      "text/plain": [
       "tensor([-1.3742, -0.0870])"
      ]
     },
     "execution_count": 47,
     "metadata": {},
     "output_type": "execute_result"
    }
   ],
   "source": [
    "# Multiply the vector by C...\n",
    "g.float() @ C"
   ]
  },
  {
   "cell_type": "code",
   "execution_count": 50,
   "metadata": {},
   "outputs": [
    {
     "data": {
      "text/plain": [
       "tensor([-1.3742, -0.0870])"
      ]
     },
     "execution_count": 50,
     "metadata": {},
     "output_type": "execute_result"
    }
   ],
   "source": [
    "# Equivalent to...\n",
    "C[5]"
   ]
  },
  {
   "cell_type": "markdown",
   "metadata": {},
   "source": [
    "Interesting"
   ]
  },
  {
   "cell_type": "code",
   "execution_count": 55,
   "metadata": {},
   "outputs": [
    {
     "data": {
      "text/plain": [
       "tensor([[ 0,  0,  0],\n",
       "        [ 0,  0,  5],\n",
       "        [ 0,  5, 13],\n",
       "        [ 5, 13, 13],\n",
       "        [13, 13,  1]])"
      ]
     },
     "execution_count": 55,
     "metadata": {},
     "output_type": "execute_result"
    }
   ],
   "source": [
    "X[:5]"
   ]
  },
  {
   "cell_type": "code",
   "execution_count": 54,
   "metadata": {},
   "outputs": [
    {
     "data": {
      "text/plain": [
       "tensor([[[ 1.9117,  0.3338],\n",
       "         [ 1.9117,  0.3338],\n",
       "         [ 1.9117,  0.3338]],\n",
       "\n",
       "        [[ 1.9117,  0.3338],\n",
       "         [ 1.9117,  0.3338],\n",
       "         [-1.3742, -0.0870]],\n",
       "\n",
       "        [[ 1.9117,  0.3338],\n",
       "         [-1.3742, -0.0870],\n",
       "         [ 1.8357, -0.7231]],\n",
       "\n",
       "        [[-1.3742, -0.0870],\n",
       "         [ 1.8357, -0.7231],\n",
       "         [ 1.8357, -0.7231]],\n",
       "\n",
       "        [[ 1.8357, -0.7231],\n",
       "         [ 1.8357, -0.7231],\n",
       "         [ 1.8205,  1.8430]]])"
      ]
     },
     "execution_count": 54,
     "metadata": {},
     "output_type": "execute_result"
    }
   ],
   "source": [
    "# First few examples using list / tensor indexing!\n",
    "C[X][:5]"
   ]
  },
  {
   "cell_type": "code",
   "execution_count": 26,
   "metadata": {},
   "outputs": [
    {
     "data": {
      "text/plain": [
       "torch.Size([32, 3, 2])"
      ]
     },
     "execution_count": 26,
     "metadata": {},
     "output_type": "execute_result"
    }
   ],
   "source": [
    "C[X].shape\n",
    "\n",
    "# For every one of the 32 by 3 integers, we retreieve the embedding here!"
   ]
  },
  {
   "cell_type": "code",
   "execution_count": 27,
   "metadata": {},
   "outputs": [
    {
     "data": {
      "text/plain": [
       "tensor(1)"
      ]
     },
     "execution_count": 27,
     "metadata": {},
     "output_type": "execute_result"
    }
   ],
   "source": [
    "X[13,2]"
   ]
  },
  {
   "cell_type": "code",
   "execution_count": 28,
   "metadata": {},
   "outputs": [
    {
     "data": {
      "text/plain": [
       "tensor([0.8462, 0.0423])"
      ]
     },
     "execution_count": 28,
     "metadata": {},
     "output_type": "execute_result"
    }
   ],
   "source": [
    "C[X][13, 2]"
   ]
  },
  {
   "cell_type": "code",
   "execution_count": 29,
   "metadata": {},
   "outputs": [
    {
     "data": {
      "text/plain": [
       "tensor([0.8462, 0.0423])"
      ]
     },
     "execution_count": 29,
     "metadata": {},
     "output_type": "execute_result"
    }
   ],
   "source": [
    "C[1]"
   ]
  },
  {
   "cell_type": "code",
   "execution_count": 32,
   "metadata": {},
   "outputs": [
    {
     "data": {
      "text/plain": [
       "torch.Size([32, 3, 2])"
      ]
     },
     "execution_count": 32,
     "metadata": {},
     "output_type": "execute_result"
    }
   ],
   "source": [
    "emb = C[X]\n",
    "emb.shape"
   ]
  },
  {
   "cell_type": "markdown",
   "metadata": {},
   "source": [
    "# Construct hidden layer!"
   ]
  },
  {
   "cell_type": "code",
   "execution_count": 25,
   "metadata": {},
   "outputs": [],
   "source": [
    "W1 = torch.randn((6, 100))\n",
    "# Why 6? Because we have 3, 2 at the end there, because we have 2 dim embeddings, and we have 3 of them.\n",
    "b1 = torch.randn(100)"
   ]
  },
  {
   "cell_type": "code",
   "execution_count": 60,
   "metadata": {},
   "outputs": [
    {
     "ename": "RuntimeError",
     "evalue": "mat1 and mat2 shapes cannot be multiplied (96x2 and 6x100)",
     "output_type": "error",
     "traceback": [
      "\u001b[0;31m---------------------------------------------------------------------------\u001b[0m",
      "\u001b[0;31mRuntimeError\u001b[0m                              Traceback (most recent call last)",
      "Cell \u001b[0;32mIn[60], line 1\u001b[0m\n\u001b[0;32m----> 1\u001b[0m \u001b[43memb\u001b[49m\u001b[43m \u001b[49m\u001b[38;5;241;43m@\u001b[39;49m\u001b[43m \u001b[49m\u001b[43mW1\u001b[49m \u001b[38;5;241m+\u001b[39m b1\n\u001b[1;32m      2\u001b[0m \u001b[38;5;66;03m# Can't multiply :( because can't broadcast as they are stacked up. We need to concatenate the inputs together.\u001b[39;00m\n",
      "\u001b[0;31mRuntimeError\u001b[0m: mat1 and mat2 shapes cannot be multiplied (96x2 and 6x100)"
     ]
    }
   ],
   "source": [
    "emb @ W1 + b1\n",
    "# Can't multiply :( because can't broadcast as they are stacked up. We need to concatenate the inputs together."
   ]
  },
  {
   "cell_type": "code",
   "execution_count": 61,
   "metadata": {},
   "outputs": [
    {
     "data": {
      "text/plain": [
       "tensor([[-1.1481, -0.5969],\n",
       "        [-1.1481, -0.5969],\n",
       "        [-1.1481, -0.5969],\n",
       "        [-2.2405, -1.7660],\n",
       "        [ 1.5219, -1.2744],\n",
       "        [-1.1481, -0.5969],\n",
       "        [-1.1481, -0.5969],\n",
       "        [-1.1481, -0.5969],\n",
       "        [ 0.2583, -0.1362],\n",
       "        [ 1.3946, -0.0972],\n",
       "        [-0.5042,  0.1918],\n",
       "        [-2.6404,  2.2716],\n",
       "        [-1.1481, -0.5969],\n",
       "        [-1.1481, -0.5969],\n",
       "        [-1.1481, -0.5969],\n",
       "        [ 0.8462,  0.0423],\n",
       "        [-1.1481, -0.5969],\n",
       "        [-1.1481, -0.5969],\n",
       "        [-1.1481, -0.5969],\n",
       "        [-0.5042,  0.1918],\n",
       "        [-1.1870,  1.0311],\n",
       "        [ 0.8462,  0.0423],\n",
       "        [-1.0291,  1.1611],\n",
       "        [-2.2405, -1.7660],\n",
       "        [ 1.3946, -0.0972],\n",
       "        [-1.1481, -0.5969],\n",
       "        [-1.1481, -0.5969],\n",
       "        [-1.1481, -0.5969],\n",
       "        [-1.1870,  1.0311],\n",
       "        [ 0.2583, -0.1362],\n",
       "        [ 0.2817, -0.1495],\n",
       "        [-0.2327,  0.0818]])"
      ]
     },
     "execution_count": 61,
     "metadata": {},
     "output_type": "execute_result"
    }
   ],
   "source": [
    "emb[:, 0, :]"
   ]
  },
  {
   "cell_type": "code",
   "execution_count": 69,
   "metadata": {},
   "outputs": [
    {
     "data": {
      "text/plain": [
       "tensor([[-1.1481, -0.5969],\n",
       "        [-1.1481, -0.5969],\n",
       "        [-1.1481, -0.5969],\n",
       "        [-2.2405, -1.7660],\n",
       "        [ 1.5219, -1.2744]])"
      ]
     },
     "execution_count": 69,
     "metadata": {},
     "output_type": "execute_result"
    }
   ],
   "source": [
    "z = emb[:, 0, :][:5]\n",
    "z\n",
    "# But this is just the first dimension, of the 3"
   ]
  },
  {
   "cell_type": "code",
   "execution_count": 66,
   "metadata": {},
   "outputs": [
    {
     "data": {
      "text/plain": [
       "(tensor([[-1.1481, -0.5969],\n",
       "         [-1.1481, -0.5969],\n",
       "         [-1.1481, -0.5969],\n",
       "         [-2.2405, -1.7660],\n",
       "         [ 1.5219, -1.2744]]),\n",
       " tensor([[-1.1481, -0.5969],\n",
       "         [-1.1481, -0.5969],\n",
       "         [-2.2405, -1.7660],\n",
       "         [ 1.5219, -1.2744],\n",
       "         [ 1.5219, -1.2744]]),\n",
       " tensor([[-1.1481, -0.5969],\n",
       "         [-2.2405, -1.7660],\n",
       "         [ 1.5219, -1.2744],\n",
       "         [ 1.5219, -1.2744],\n",
       "         [ 0.8462,  0.0423]]))"
      ]
     },
     "execution_count": 66,
     "metadata": {},
     "output_type": "execute_result"
    }
   ],
   "source": [
    "emb[:, 0, :][:5],emb[:, 1, :][:5],emb[:, 2, :][:5]\n"
   ]
  },
  {
   "cell_type": "code",
   "execution_count": 70,
   "metadata": {},
   "outputs": [
    {
     "data": {
      "text/plain": [
       "torch.Size([5, 2])"
      ]
     },
     "execution_count": 70,
     "metadata": {},
     "output_type": "execute_result"
    }
   ],
   "source": [
    "z.shape"
   ]
  },
  {
   "cell_type": "code",
   "execution_count": 71,
   "metadata": {},
   "outputs": [
    {
     "data": {
      "text/plain": [
       "5"
      ]
     },
     "execution_count": 71,
     "metadata": {},
     "output_type": "execute_result"
    }
   ],
   "source": [
    "len(z)"
   ]
  },
  {
   "cell_type": "code",
   "execution_count": 72,
   "metadata": {},
   "outputs": [
    {
     "data": {
      "text/plain": [
       "(tensor([1, 2, 3]), tensor([4, 5, 6]), tensor([7, 8, 9]))"
      ]
     },
     "execution_count": 72,
     "metadata": {},
     "output_type": "execute_result"
    }
   ],
   "source": [
    "torch.unbind(torch.tensor([[1,2,3],\n",
    "                            [4,5,6],\n",
    "                            [7,8,9]]))"
   ]
  },
  {
   "cell_type": "code",
   "execution_count": 73,
   "metadata": {},
   "outputs": [
    {
     "data": {
      "text/plain": [
       "(tensor([[-1.1481, -0.5969],\n",
       "         [-1.1481, -0.5969],\n",
       "         [-1.1481, -0.5969],\n",
       "         [-2.2405, -1.7660],\n",
       "         [ 1.5219, -1.2744],\n",
       "         [-1.1481, -0.5969],\n",
       "         [-1.1481, -0.5969],\n",
       "         [-1.1481, -0.5969],\n",
       "         [ 0.2583, -0.1362],\n",
       "         [ 1.3946, -0.0972],\n",
       "         [-0.5042,  0.1918],\n",
       "         [-2.6404,  2.2716],\n",
       "         [-1.1481, -0.5969],\n",
       "         [-1.1481, -0.5969],\n",
       "         [-1.1481, -0.5969],\n",
       "         [ 0.8462,  0.0423],\n",
       "         [-1.1481, -0.5969],\n",
       "         [-1.1481, -0.5969],\n",
       "         [-1.1481, -0.5969],\n",
       "         [-0.5042,  0.1918],\n",
       "         [-1.1870,  1.0311],\n",
       "         [ 0.8462,  0.0423],\n",
       "         [-1.0291,  1.1611],\n",
       "         [-2.2405, -1.7660],\n",
       "         [ 1.3946, -0.0972],\n",
       "         [-1.1481, -0.5969],\n",
       "         [-1.1481, -0.5969],\n",
       "         [-1.1481, -0.5969],\n",
       "         [-1.1870,  1.0311],\n",
       "         [ 0.2583, -0.1362],\n",
       "         [ 0.2817, -0.1495],\n",
       "         [-0.2327,  0.0818]]),\n",
       " tensor([[-1.1481, -0.5969],\n",
       "         [-1.1481, -0.5969],\n",
       "         [-2.2405, -1.7660],\n",
       "         [ 1.5219, -1.2744],\n",
       "         [ 1.5219, -1.2744],\n",
       "         [-1.1481, -0.5969],\n",
       "         [-1.1481, -0.5969],\n",
       "         [ 0.2583, -0.1362],\n",
       "         [ 1.3946, -0.0972],\n",
       "         [-0.5042,  0.1918],\n",
       "         [-2.6404,  2.2716],\n",
       "         [-0.5042,  0.1918],\n",
       "         [-1.1481, -0.5969],\n",
       "         [-1.1481, -0.5969],\n",
       "         [ 0.8462,  0.0423],\n",
       "         [-2.6404,  2.2716],\n",
       "         [-1.1481, -0.5969],\n",
       "         [-1.1481, -0.5969],\n",
       "         [-0.5042,  0.1918],\n",
       "         [-1.1870,  1.0311],\n",
       "         [ 0.8462,  0.0423],\n",
       "         [-1.0291,  1.1611],\n",
       "         [-2.2405, -1.7660],\n",
       "         [ 1.3946, -0.0972],\n",
       "         [ 1.3946, -0.0972],\n",
       "         [-1.1481, -0.5969],\n",
       "         [-1.1481, -0.5969],\n",
       "         [-1.1870,  1.0311],\n",
       "         [ 0.2583, -0.1362],\n",
       "         [ 0.2817, -0.1495],\n",
       "         [-0.2327,  0.0818],\n",
       "         [-0.5042,  0.1918]]),\n",
       " tensor([[-1.1481, -0.5969],\n",
       "         [-2.2405, -1.7660],\n",
       "         [ 1.5219, -1.2744],\n",
       "         [ 1.5219, -1.2744],\n",
       "         [ 0.8462,  0.0423],\n",
       "         [-1.1481, -0.5969],\n",
       "         [ 0.2583, -0.1362],\n",
       "         [ 1.3946, -0.0972],\n",
       "         [-0.5042,  0.1918],\n",
       "         [-2.6404,  2.2716],\n",
       "         [-0.5042,  0.1918],\n",
       "         [ 0.8462,  0.0423],\n",
       "         [-1.1481, -0.5969],\n",
       "         [ 0.8462,  0.0423],\n",
       "         [-2.6404,  2.2716],\n",
       "         [ 0.8462,  0.0423],\n",
       "         [-1.1481, -0.5969],\n",
       "         [-0.5042,  0.1918],\n",
       "         [-1.1870,  1.0311],\n",
       "         [ 0.8462,  0.0423],\n",
       "         [-1.0291,  1.1611],\n",
       "         [-2.2405, -1.7660],\n",
       "         [ 1.3946, -0.0972],\n",
       "         [ 1.3946, -0.0972],\n",
       "         [ 0.8462,  0.0423],\n",
       "         [-1.1481, -0.5969],\n",
       "         [-1.1870,  1.0311],\n",
       "         [ 0.2583, -0.1362],\n",
       "         [ 0.2817, -0.1495],\n",
       "         [-0.2327,  0.0818],\n",
       "         [-0.5042,  0.1918],\n",
       "         [ 0.8462,  0.0423]]))"
      ]
     },
     "execution_count": 73,
     "metadata": {},
     "output_type": "execute_result"
    }
   ],
   "source": [
    "torch.unbind(emb, 1)"
   ]
  },
  {
   "cell_type": "code",
   "execution_count": 75,
   "metadata": {},
   "outputs": [
    {
     "name": "stdout",
     "output_type": "stream",
     "text": [
      "tensor([[-1.1481, -0.5969, -1.1481, -0.5969, -1.1481, -0.5969],\n",
      "        [-1.1481, -0.5969, -1.1481, -0.5969, -2.2405, -1.7660],\n",
      "        [-1.1481, -0.5969, -2.2405, -1.7660,  1.5219, -1.2744],\n",
      "        [-2.2405, -1.7660,  1.5219, -1.2744,  1.5219, -1.2744]])\n",
      "torch.Size([32, 6])\n"
     ]
    }
   ],
   "source": [
    "print(torch.cat(torch.unbind(emb, 1), 1)[:4])\n",
    "print(torch.cat(torch.unbind(emb, 1), 1).shape)"
   ]
  },
  {
   "cell_type": "code",
   "execution_count": 77,
   "metadata": {},
   "outputs": [
    {
     "data": {
      "text/plain": [
       "tensor([ 0,  1,  2,  3,  4,  5,  6,  7,  8,  9, 10, 11, 12, 13, 14, 15, 16, 17])"
      ]
     },
     "execution_count": 77,
     "metadata": {},
     "output_type": "execute_result"
    }
   ],
   "source": [
    "# But there is a better way to do this!\n",
    "\n",
    "a = torch.arange(18)\n",
    "a"
   ]
  },
  {
   "cell_type": "code",
   "execution_count": 78,
   "metadata": {},
   "outputs": [
    {
     "data": {
      "text/plain": [
       "torch.Size([18])"
      ]
     },
     "execution_count": 78,
     "metadata": {},
     "output_type": "execute_result"
    }
   ],
   "source": [
    "a.shape"
   ]
  },
  {
   "cell_type": "code",
   "execution_count": 79,
   "metadata": {},
   "outputs": [
    {
     "data": {
      "text/plain": [
       "tensor([[ 0,  1,  2,  3,  4,  5,  6,  7,  8],\n",
       "        [ 9, 10, 11, 12, 13, 14, 15, 16, 17]])"
      ]
     },
     "execution_count": 79,
     "metadata": {},
     "output_type": "execute_result"
    }
   ],
   "source": [
    "a.view((2,9))"
   ]
  },
  {
   "cell_type": "code",
   "execution_count": 80,
   "metadata": {},
   "outputs": [
    {
     "data": {
      "text/plain": [
       "tensor([[[ 0,  1],\n",
       "         [ 2,  3],\n",
       "         [ 4,  5]],\n",
       "\n",
       "        [[ 6,  7],\n",
       "         [ 8,  9],\n",
       "         [10, 11]],\n",
       "\n",
       "        [[12, 13],\n",
       "         [14, 15],\n",
       "         [16, 17]]])"
      ]
     },
     "execution_count": 80,
     "metadata": {},
     "output_type": "execute_result"
    }
   ],
   "source": [
    "a.view(3, 3, 2)"
   ]
  },
  {
   "cell_type": "code",
   "execution_count": 82,
   "metadata": {},
   "outputs": [
    {
     "data": {
      "text/plain": [
       " 0\n",
       " 1\n",
       " 2\n",
       " 3\n",
       " 4\n",
       " 5\n",
       " 6\n",
       " 7\n",
       " 8\n",
       " 9\n",
       " 10\n",
       " 11\n",
       " 12\n",
       " 13\n",
       " 14\n",
       " 15\n",
       " 16\n",
       " 17\n",
       "[torch.storage.TypedStorage(dtype=torch.int64, device=cpu) of size 18]"
      ]
     },
     "execution_count": 82,
     "metadata": {},
     "output_type": "execute_result"
    }
   ],
   "source": [
    "# a.view is very efficient!\n",
    "a.storage()\n",
    "# Always is stored as this anyway as a 1d tensor!"
   ]
  },
  {
   "cell_type": "code",
   "execution_count": 83,
   "metadata": {},
   "outputs": [
    {
     "data": {
      "text/plain": [
       "tensor([[-1.1481, -0.5969, -1.1481, -0.5969, -1.1481, -0.5969],\n",
       "        [-1.1481, -0.5969, -1.1481, -0.5969, -2.2405, -1.7660],\n",
       "        [-1.1481, -0.5969, -2.2405, -1.7660,  1.5219, -1.2744],\n",
       "        [-2.2405, -1.7660,  1.5219, -1.2744,  1.5219, -1.2744],\n",
       "        [ 1.5219, -1.2744,  1.5219, -1.2744,  0.8462,  0.0423],\n",
       "        [-1.1481, -0.5969, -1.1481, -0.5969, -1.1481, -0.5969],\n",
       "        [-1.1481, -0.5969, -1.1481, -0.5969,  0.2583, -0.1362],\n",
       "        [-1.1481, -0.5969,  0.2583, -0.1362,  1.3946, -0.0972],\n",
       "        [ 0.2583, -0.1362,  1.3946, -0.0972, -0.5042,  0.1918],\n",
       "        [ 1.3946, -0.0972, -0.5042,  0.1918, -2.6404,  2.2716],\n",
       "        [-0.5042,  0.1918, -2.6404,  2.2716, -0.5042,  0.1918],\n",
       "        [-2.6404,  2.2716, -0.5042,  0.1918,  0.8462,  0.0423],\n",
       "        [-1.1481, -0.5969, -1.1481, -0.5969, -1.1481, -0.5969],\n",
       "        [-1.1481, -0.5969, -1.1481, -0.5969,  0.8462,  0.0423],\n",
       "        [-1.1481, -0.5969,  0.8462,  0.0423, -2.6404,  2.2716],\n",
       "        [ 0.8462,  0.0423, -2.6404,  2.2716,  0.8462,  0.0423],\n",
       "        [-1.1481, -0.5969, -1.1481, -0.5969, -1.1481, -0.5969],\n",
       "        [-1.1481, -0.5969, -1.1481, -0.5969, -0.5042,  0.1918],\n",
       "        [-1.1481, -0.5969, -0.5042,  0.1918, -1.1870,  1.0311],\n",
       "        [-0.5042,  0.1918, -1.1870,  1.0311,  0.8462,  0.0423],\n",
       "        [-1.1870,  1.0311,  0.8462,  0.0423, -1.0291,  1.1611],\n",
       "        [ 0.8462,  0.0423, -1.0291,  1.1611, -2.2405, -1.7660],\n",
       "        [-1.0291,  1.1611, -2.2405, -1.7660,  1.3946, -0.0972],\n",
       "        [-2.2405, -1.7660,  1.3946, -0.0972,  1.3946, -0.0972],\n",
       "        [ 1.3946, -0.0972,  1.3946, -0.0972,  0.8462,  0.0423],\n",
       "        [-1.1481, -0.5969, -1.1481, -0.5969, -1.1481, -0.5969],\n",
       "        [-1.1481, -0.5969, -1.1481, -0.5969, -1.1870,  1.0311],\n",
       "        [-1.1481, -0.5969, -1.1870,  1.0311,  0.2583, -0.1362],\n",
       "        [-1.1870,  1.0311,  0.2583, -0.1362,  0.2817, -0.1495],\n",
       "        [ 0.2583, -0.1362,  0.2817, -0.1495, -0.2327,  0.0818],\n",
       "        [ 0.2817, -0.1495, -0.2327,  0.0818, -0.5042,  0.1918],\n",
       "        [-0.2327,  0.0818, -0.5042,  0.1918,  0.8462,  0.0423]])"
      ]
     },
     "execution_count": 83,
     "metadata": {},
     "output_type": "execute_result"
    }
   ],
   "source": [
    "emb.view(32,6)"
   ]
  },
  {
   "cell_type": "code",
   "execution_count": 84,
   "metadata": {},
   "outputs": [
    {
     "data": {
      "text/plain": [
       "tensor([[True, True, True, True, True, True],\n",
       "        [True, True, True, True, True, True],\n",
       "        [True, True, True, True, True, True],\n",
       "        [True, True, True, True, True, True],\n",
       "        [True, True, True, True, True, True],\n",
       "        [True, True, True, True, True, True],\n",
       "        [True, True, True, True, True, True],\n",
       "        [True, True, True, True, True, True],\n",
       "        [True, True, True, True, True, True],\n",
       "        [True, True, True, True, True, True],\n",
       "        [True, True, True, True, True, True],\n",
       "        [True, True, True, True, True, True],\n",
       "        [True, True, True, True, True, True],\n",
       "        [True, True, True, True, True, True],\n",
       "        [True, True, True, True, True, True],\n",
       "        [True, True, True, True, True, True],\n",
       "        [True, True, True, True, True, True],\n",
       "        [True, True, True, True, True, True],\n",
       "        [True, True, True, True, True, True],\n",
       "        [True, True, True, True, True, True],\n",
       "        [True, True, True, True, True, True],\n",
       "        [True, True, True, True, True, True],\n",
       "        [True, True, True, True, True, True],\n",
       "        [True, True, True, True, True, True],\n",
       "        [True, True, True, True, True, True],\n",
       "        [True, True, True, True, True, True],\n",
       "        [True, True, True, True, True, True],\n",
       "        [True, True, True, True, True, True],\n",
       "        [True, True, True, True, True, True],\n",
       "        [True, True, True, True, True, True],\n",
       "        [True, True, True, True, True, True],\n",
       "        [True, True, True, True, True, True]])"
      ]
     },
     "execution_count": 84,
     "metadata": {},
     "output_type": "execute_result"
    }
   ],
   "source": [
    "emb.view(32, 6) == torch.cat(torch.unbind(emb, 1), 1)"
   ]
  },
  {
   "cell_type": "code",
   "execution_count": 86,
   "metadata": {},
   "outputs": [],
   "source": [
    "h = emb.view(32, 6) @ W1 + b1"
   ]
  },
  {
   "cell_type": "code",
   "execution_count": 87,
   "metadata": {},
   "outputs": [
    {
     "data": {
      "text/plain": [
       "torch.Size([32, 100])"
      ]
     },
     "execution_count": 87,
     "metadata": {},
     "output_type": "execute_result"
    }
   ],
   "source": [
    "h.shape"
   ]
  },
  {
   "cell_type": "code",
   "execution_count": 88,
   "metadata": {},
   "outputs": [],
   "source": [
    "# Can also use -1 to infer the size\n",
    "h = emb.view(-1, 6) @ W1 + b1\n",
    "\n",
    "# Cat is inefficient as it has to use new memory.."
   ]
  },
  {
   "cell_type": "code",
   "execution_count": 10,
   "metadata": {},
   "outputs": [
    {
     "ename": "NameError",
     "evalue": "name 'emb' is not defined",
     "output_type": "error",
     "traceback": [
      "\u001b[0;31m---------------------------------------------------------------------------\u001b[0m",
      "\u001b[0;31mNameError\u001b[0m                                 Traceback (most recent call last)",
      "Cell \u001b[0;32mIn[10], line 1\u001b[0m\n\u001b[0;32m----> 1\u001b[0m h \u001b[38;5;241m=\u001b[39m torch\u001b[38;5;241m.\u001b[39mtanh(\u001b[43memb\u001b[49m\u001b[38;5;241m.\u001b[39mview(\u001b[38;5;241m-\u001b[39m\u001b[38;5;241m1\u001b[39m, \u001b[38;5;241m6\u001b[39m) \u001b[38;5;241m@\u001b[39m W1 \u001b[38;5;241m+\u001b[39m b1)\n\u001b[1;32m      2\u001b[0m h\n",
      "\u001b[0;31mNameError\u001b[0m: name 'emb' is not defined"
     ]
    }
   ],
   "source": [
    "h = torch.tanh(emb.view(-1, 6) @ W1 + b1)\n",
    "h"
   ]
  },
  {
   "cell_type": "markdown",
   "metadata": {},
   "source": [
    "Let's also check the broadcasting of adding b1"
   ]
  },
  {
   "cell_type": "code",
   "execution_count": 91,
   "metadata": {},
   "outputs": [
    {
     "data": {
      "text/plain": [
       "torch.Size([32, 100])"
      ]
     },
     "execution_count": 91,
     "metadata": {},
     "output_type": "execute_result"
    }
   ],
   "source": [
    "(emb.view(-1, 6) @ W1 ). shape"
   ]
  },
  {
   "cell_type": "code",
   "execution_count": 93,
   "metadata": {},
   "outputs": [
    {
     "data": {
      "text/plain": [
       "torch.Size([100])"
      ]
     },
     "execution_count": 93,
     "metadata": {},
     "output_type": "execute_result"
    }
   ],
   "source": [
    "b1.shape"
   ]
  },
  {
   "cell_type": "code",
   "execution_count": null,
   "metadata": {},
   "outputs": [],
   "source": [
    "# 32, 100\n",
    "# 100\n",
    "\n",
    "# ---->\n",
    "\n",
    "# 32, 100\n",
    "#  1, 100\n",
    "\n",
    "# It will copy vertically for each of the rows of 32 and do an addition."
   ]
  },
  {
   "cell_type": "code",
   "execution_count": 94,
   "metadata": {},
   "outputs": [],
   "source": [
    "# Let's make the final layer -> softmax"
   ]
  },
  {
   "cell_type": "code",
   "execution_count": 26,
   "metadata": {},
   "outputs": [],
   "source": [
    "W2 = torch.randn((100, 27))\n",
    "# Input is 100, we have 27 chars...\n",
    "b2 = torch.randn(27)"
   ]
  },
  {
   "cell_type": "code",
   "execution_count": 12,
   "metadata": {},
   "outputs": [
    {
     "ename": "NameError",
     "evalue": "name 'h' is not defined",
     "output_type": "error",
     "traceback": [
      "\u001b[0;31m---------------------------------------------------------------------------\u001b[0m",
      "\u001b[0;31mNameError\u001b[0m                                 Traceback (most recent call last)",
      "Cell \u001b[0;32mIn[12], line 2\u001b[0m\n\u001b[1;32m      1\u001b[0m \u001b[38;5;66;03m# Therefore the logits which are the outputs of the NN\u001b[39;00m\n\u001b[0;32m----> 2\u001b[0m logits \u001b[38;5;241m=\u001b[39m \u001b[43mh\u001b[49m \u001b[38;5;241m@\u001b[39m W2 \u001b[38;5;241m+\u001b[39m b2\n\u001b[1;32m      3\u001b[0m logits\u001b[38;5;241m.\u001b[39mshape\n",
      "\u001b[0;31mNameError\u001b[0m: name 'h' is not defined"
     ]
    }
   ],
   "source": [
    "# Therefore the logits which are the outputs of the NN\n",
    "logits = h @ W2 + b2\n",
    "logits.shape"
   ]
  },
  {
   "cell_type": "markdown",
   "metadata": {},
   "source": [
    "Just like in the vid beforehand, we want to exp them to get fake counts, then normalise them into a probability"
   ]
  },
  {
   "cell_type": "code",
   "execution_count": 97,
   "metadata": {},
   "outputs": [],
   "source": [
    "counts = logits.exp()"
   ]
  },
  {
   "cell_type": "code",
   "execution_count": 100,
   "metadata": {},
   "outputs": [],
   "source": [
    "prob = counts / counts.sum(1, keepdims=True)"
   ]
  },
  {
   "cell_type": "code",
   "execution_count": 102,
   "metadata": {},
   "outputs": [
    {
     "data": {
      "text/plain": [
       "tensor(1.0000)"
      ]
     },
     "execution_count": 102,
     "metadata": {},
     "output_type": "execute_result"
    }
   ],
   "source": [
    "prob[0].sum()\n",
    "# Normalised :)"
   ]
  },
  {
   "cell_type": "markdown",
   "metadata": {},
   "source": [
    "We have the actual letter that comes next"
   ]
  },
  {
   "cell_type": "code",
   "execution_count": 103,
   "metadata": {},
   "outputs": [
    {
     "data": {
      "text/plain": [
       "tensor([ 5, 13, 13,  1,  0, 15, 12,  9, 22,  9,  1,  0,  1, 22,  1,  0,  9, 19,\n",
       "         1,  2,  5, 12, 12,  1,  0, 19, 15, 16,  8,  9,  1,  0])"
      ]
     },
     "execution_count": 103,
     "metadata": {},
     "output_type": "execute_result"
    }
   ],
   "source": [
    "Y"
   ]
  },
  {
   "cell_type": "code",
   "execution_count": 104,
   "metadata": {},
   "outputs": [],
   "source": [
    "#  We'd like to index into the rows of prob, and in each row we want to pluck out prob assigned to correct character"
   ]
  },
  {
   "cell_type": "code",
   "execution_count": 105,
   "metadata": {},
   "outputs": [
    {
     "data": {
      "text/plain": [
       "tensor([ 0,  1,  2,  3,  4,  5,  6,  7,  8,  9, 10, 11, 12, 13, 14, 15, 16, 17,\n",
       "        18, 19, 20, 21, 22, 23, 24, 25, 26, 27, 28, 29, 30, 31])"
      ]
     },
     "execution_count": 105,
     "metadata": {},
     "output_type": "execute_result"
    }
   ],
   "source": [
    "torch.arange(32)"
   ]
  },
  {
   "cell_type": "code",
   "execution_count": 106,
   "metadata": {},
   "outputs": [
    {
     "data": {
      "text/plain": [
       "tensor([6.4076e-07, 8.0897e-08, 3.5541e-07, 9.1195e-10, 4.3579e-03, 5.1094e-12,\n",
       "        2.6939e-03, 7.1771e-13, 2.9475e-09, 7.2163e-06, 7.0375e-07, 1.1212e-12,\n",
       "        9.8832e-10, 2.6796e-01, 9.5690e-11, 2.7451e-04, 9.1488e-02, 5.9270e-07,\n",
       "        3.3462e-11, 1.3674e-07, 1.1285e-10, 1.6482e-13, 5.3070e-11, 1.0518e-10,\n",
       "        1.0460e-05, 1.3000e-10, 8.6704e-11, 2.7156e-10, 1.1301e-07, 1.3339e-06,\n",
       "        2.9013e-04, 2.0449e-05])"
      ]
     },
     "execution_count": 106,
     "metadata": {},
     "output_type": "execute_result"
    }
   ],
   "source": [
    "prob[torch.arange(32), Y]"
   ]
  },
  {
   "cell_type": "code",
   "execution_count": 111,
   "metadata": {},
   "outputs": [],
   "source": [
    "loss = - prob[torch.arange(32), Y].log().mean()\n",
    "# Negative log likelikehood loss"
   ]
  },
  {
   "cell_type": "code",
   "execution_count": 112,
   "metadata": {},
   "outputs": [
    {
     "data": {
      "text/plain": [
       "tensor(16.9244)"
      ]
     },
     "execution_count": 112,
     "metadata": {},
     "output_type": "execute_result"
    }
   ],
   "source": [
    "loss"
   ]
  },
  {
   "cell_type": "code",
   "execution_count": 113,
   "metadata": {},
   "outputs": [],
   "source": [
    "# There is a cross entropy function in torch to calc this much more efficiently ;D"
   ]
  },
  {
   "cell_type": "code",
   "execution_count": 115,
   "metadata": {},
   "outputs": [],
   "source": [
    "loss = F.cross_entropy(logits, Y)"
   ]
  },
  {
   "cell_type": "code",
   "execution_count": 115,
   "metadata": {},
   "outputs": [],
   "source": [
    "C = torch.randn((27, 10))\n",
    "W1 = torch.randn((30, 200))\n",
    "b1 = torch.randn(200)\n",
    "W2 = torch.randn((200, 27))\n",
    "b2 = torch.randn(27)"
   ]
  },
  {
   "cell_type": "code",
   "execution_count": 116,
   "metadata": {},
   "outputs": [],
   "source": [
    "parameters = [C, W1, b1, W2, b2]\n",
    "for p in parameters:\n",
    "    p.requires_grad = True"
   ]
  },
  {
   "cell_type": "code",
   "execution_count": 117,
   "metadata": {},
   "outputs": [
    {
     "data": {
      "text/plain": [
       "11897"
      ]
     },
     "execution_count": 117,
     "metadata": {},
     "output_type": "execute_result"
    }
   ],
   "source": [
    "sum(p.nelement() for p in parameters)"
   ]
  },
  {
   "cell_type": "code",
   "execution_count": 118,
   "metadata": {},
   "outputs": [],
   "source": [
    "lri, lossi, stepi = [], [], []"
   ]
  },
  {
   "cell_type": "code",
   "execution_count": 127,
   "metadata": {},
   "outputs": [],
   "source": [
    "for i in  range(50000):\n",
    "    # minibatch!\n",
    "    ix = torch.randint(0,Xtr.shape[0],(32,))\n",
    "\n",
    "    # Forward pass\n",
    "    emb = C[Xtr[ix]]\n",
    "    h = torch.tanh(emb.view(-1, 30) @ W1 + b1)\n",
    "    logits = h @ W2 + b2\n",
    "    loss = F.cross_entropy(logits, Ytr[ix])\n",
    "    # print(loss.item())\n",
    "    # Backward pass\n",
    "    for p in parameters:\n",
    "        p.grad = None\n",
    "    loss.backward()\n",
    "    # Update\n",
    "\n",
    "    lr = 0.01\n",
    "    for p in parameters:\n",
    "        p.data += -lr * p.grad\n",
    "    \n",
    "    # lri.append(lre[i])\n",
    "    lossi.append(loss.log10().item())\n",
    "    stepi.append(i)"
   ]
  },
  {
   "cell_type": "code",
   "execution_count": 128,
   "metadata": {},
   "outputs": [
    {
     "name": "stdout",
     "output_type": "stream",
     "text": [
      "2.161421298980713\n"
     ]
    }
   ],
   "source": [
    "emb = C[Xtr]\n",
    "h = torch.tanh(emb.view(-1, 30) @ W1 + b1)\n",
    "logits = h @ W2 + b2\n",
    "loss = F.cross_entropy(logits, Ytr)\n",
    "print(loss.item())\n"
   ]
  },
  {
   "cell_type": "code",
   "execution_count": 129,
   "metadata": {},
   "outputs": [
    {
     "name": "stdout",
     "output_type": "stream",
     "text": [
      "2.2046098709106445\n"
     ]
    }
   ],
   "source": [
    "emb = C[Xdev]\n",
    "h = torch.tanh(emb.view(-1, 30) @ W1 + b1)\n",
    "logits = h @ W2 + b2\n",
    "loss = F.cross_entropy(logits, Ydev)\n",
    "print(loss.item())\n"
   ]
  },
  {
   "cell_type": "code",
   "execution_count": 126,
   "metadata": {},
   "outputs": [
    {
     "data": {
      "text/plain": [
       "[<matplotlib.lines.Line2D at 0x32f653ce0>]"
      ]
     },
     "execution_count": 126,
     "metadata": {},
     "output_type": "execute_result"
    },
    {
     "data": {
      "image/png": "[encoded data removed]",
      "text/plain": [
       "<Figure size 640x480 with 1 Axes>"
      ]
     },
     "metadata": {},
     "output_type": "display_data"
    }
   ],
   "source": [
    "plt.plot(stepi, lossi)"
   ]
  },
  {
   "cell_type": "code",
   "execution_count": 89,
   "metadata": {},
   "outputs": [
    {
     "name": "stdout",
     "output_type": "stream",
     "text": [
      "182437\n",
      "182437\n",
      "22781\n",
      "22781\n",
      "22928\n",
      "22928\n"
     ]
    }
   ],
   "source": [
    "# Build the dataset\n",
    "def build_dataset(words):\n",
    "    block_size = 3 # Context length\n",
    "    X, Y = [], []\n",
    "    for w in words:\n",
    "\n",
    "        # print(w)\n",
    "        context = [0] * block_size\n",
    "        for ch in w + '.':\n",
    "            ix = stoi[ch]\n",
    "            X.append(context)\n",
    "            Y.append(ix)\n",
    "            # print(\"[\",''.join(itos[i] for i in context),']', '--->', itos[ix])\n",
    "            # print(','.join(str(i) for i in context))\n",
    "            context = context[1:] + [ix] # Crop and append\n",
    "\n",
    "    print(len(X))\n",
    "    print(len(Y))\n",
    "    X = torch.tensor(X)\n",
    "    Y = torch.tensor(Y)\n",
    "    return X, Y\n",
    "\n",
    "import random\n",
    "random.seed(42)\n",
    "random.shuffle(words)\n",
    "n1 = int(0.8*len(words))\n",
    "n2 = int(0.9*len(words))\n",
    "\n",
    "Xtr, Ytr = build_dataset(words[:n1])\n",
    "Xdev, Ydev = build_dataset(words[n1:n2])\n",
    "Xte, Yte = build_dataset(words[n2:])"
   ]
  },
  {
   "cell_type": "markdown",
   "metadata": {},
   "source": [
    "vis"
   ]
  },
  {
   "cell_type": "code",
   "execution_count": 114,
   "metadata": {},
   "outputs": [
    {
     "data": {
      "image/png": "[encoded data removed]",
      "text/plain": [
       "<Figure size 800x800 with 1 Axes>"
      ]
     },
     "metadata": {},
     "output_type": "display_data"
    }
   ],
   "source": [
    "plt.figure(figsize=(8,8))\n",
    "\n",
    "plt.scatter(C[:,0].data, C[:,1].data, s=200)\n",
    "for i in range(C.shape[0]):\n",
    "    plt.text(C[i,0].item(), C[i,1].item(),itos[i], ha=\"center\", va=\"center\", color=\"white\")\n",
    "plt.grid(\"minor\")"
   ]
  },
  {
   "cell_type": "markdown",
   "metadata": {},
   "source": [
    "# Let's sample from the model"
   ]
  },
  {
   "cell_type": "code",
   "execution_count": 132,
   "metadata": {},
   "outputs": [
    {
     "name": "stdout",
     "output_type": "stream",
     "text": [
      "matr.\n",
      "corieralle.\n",
      "linia.\n",
      "imossatd.\n",
      "malna.\n",
      "kaliah.\n",
      "omiah.\n",
      "aasinvonnichani.\n",
      "rathik.\n",
      "dhyo.\n",
      "merankistanile.\n",
      "shaydneo.\n",
      "haizalia.\n",
      "kor.\n",
      "rus.\n",
      "aan.\n",
      "juhna.\n",
      "hes.\n",
      "yazjiamarke.\n",
      "minakion.\n",
      "ela.\n",
      "riyonnely.\n",
      "zamiersenia.\n",
      "ron.\n",
      "ailina.\n",
      "abriahna.\n",
      "elie.\n",
      "zaelaizaagon.\n",
      "evenell.\n",
      "avaunh.\n"
     ]
    }
   ],
   "source": [
    "for _ in range(30):\n",
    "    out = []\n",
    "\n",
    "    context = [0] * block_size\n",
    "\n",
    "    while True:\n",
    "        emb = C[torch.tensor([context])] #(1, block_size, d)\n",
    "        h = torch.tanh(emb.view(1, -1) @ W1 + b1)\n",
    "        logits = h @ W2 + b2\n",
    "\n",
    "        probs = F.softmax(logits, dim=1)\n",
    "        ix = torch.multinomial(probs, num_samples=1).item()\n",
    "        context = context[1:] + [ix]\n",
    "        out.append(ix)\n",
    "        if ix == 0:\n",
    "            break\n",
    "\n",
    "    print(''.join(itos[i] for i in out))\n"
   ]
  },
  {
   "cell_type": "code",
   "execution_count": null,
   "metadata": {},
   "outputs": [],
   "source": []
  }
 ],
 "metadata": {
  "kernelspec": {
   "display_name": "Python 3",
   "language": "python",
   "name": "python3"
  },
  "language_info": {
   "codemirror_mode": {
    "name": "ipython",
    "version": 3
   },
   "file_extension": ".py",
   "mimetype": "text/x-python",
   "name": "python",
   "nbconvert_exporter": "python",
   "pygments_lexer": "ipython3",
   "version": "3.12.0"
  }
 },
 "nbformat": 4,
 "nbformat_minor": 2
}
